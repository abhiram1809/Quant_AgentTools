{
 "cells": [
  {
   "cell_type": "code",
   "execution_count": null,
   "id": "73d7376b",
   "metadata": {
    "scrolled": true
   },
   "outputs": [],
   "source": [
    "pip install Quant-AgentTools"
   ]
  },
  {
   "cell_type": "code",
   "execution_count": 2,
   "id": "5b028c2f",
   "metadata": {},
   "outputs": [],
   "source": [
    "from Quant_AgentTools.agent_tools import AgentTools"
   ]
  },
  {
   "cell_type": "code",
   "execution_count": 3,
   "id": "b9b99e71",
   "metadata": {},
   "outputs": [
    {
     "name": "stdout",
     "output_type": "stream",
     "text": [
      "mistral-7b-instruct-v0.1.Q4_0.gguf initialized with 4 threads!!!\n"
     ]
    }
   ],
   "source": [
    "agent = AgentTools(model_name='mistral-7b-instruct-v0.1.Q4_0.gguf', threads=4)"
   ]
  },
  {
   "cell_type": "code",
   "execution_count": 4,
   "id": "86d07393",
   "metadata": {},
   "outputs": [
    {
     "name": "stdout",
     "output_type": "stream",
     "text": [
      "No tools added, Switching to General Chat\n"
     ]
    },
    {
     "data": {
      "text/plain": [
       "\"\\nThe theory of relativity refers to two theories proposed by Albert Einstein in the early 20th century that fundamentally changed our understanding of space and time. The general theory of relativity explains how gravity arises from the curvature of spacetime caused by mass, energy, and momentum. It also describes how matter and energy interact with each other and with gravity. The special theory of relativity deals with objects moving at constant speeds in a straight line, particularly those approaching the speed of light. Its key principles include that time and space are relative to an observer's frame of reference, and that nothing can travel faster than the speed of light.\""
      ]
     },
     "execution_count": 4,
     "metadata": {},
     "output_type": "execute_result"
    }
   ],
   "source": [
    "agent.chat('What is Theory of Relativity?')"
   ]
  },
  {
   "cell_type": "code",
   "execution_count": 6,
   "id": "6b185133",
   "metadata": {},
   "outputs": [],
   "source": [
    "def mul(a,b):\n",
    "    try:\n",
    "        return a*b\n",
    "    except:\n",
    "        return None\n",
    "def div(a,b):\n",
    "    try:\n",
    "        return a/b\n",
    "    except:\n",
    "        return None"
   ]
  },
  {
   "cell_type": "code",
   "execution_count": 7,
   "id": "1cb16b65",
   "metadata": {},
   "outputs": [],
   "source": [
    "agent.add_tool(\"mul\", mul, \"Multiplies Two Numbers\", \"mul(a, b)\")\n",
    "agent.add_tool(\"div\", div, \"Divides Two Numbers\", \"div(a, b)\")"
   ]
  },
  {
   "cell_type": "code",
   "execution_count": 8,
   "id": "ff2a8fe1",
   "metadata": {},
   "outputs": [
    {
     "name": "stdout",
     "output_type": "stream",
     "text": [
      "Chosen function mul\n",
      "Retrieved Arguments: 867, 435\n",
      "Chosen function on step 1 \"mul\" with args: 867, 435\n",
      "Got Output: 377145\n"
     ]
    }
   ],
   "source": [
    "agent.chat(\"What is 867 times 435?\")"
   ]
  }
 ],
 "metadata": {
  "kernelspec": {
   "display_name": "Python 3 (ipykernel)",
   "language": "python",
   "name": "python3"
  },
  "language_info": {
   "codemirror_mode": {
    "name": "ipython",
    "version": 3
   },
   "file_extension": ".py",
   "mimetype": "text/x-python",
   "name": "python",
   "nbconvert_exporter": "python",
   "pygments_lexer": "ipython3",
   "version": "3.11.5"
  }
 },
 "nbformat": 4,
 "nbformat_minor": 5
}
